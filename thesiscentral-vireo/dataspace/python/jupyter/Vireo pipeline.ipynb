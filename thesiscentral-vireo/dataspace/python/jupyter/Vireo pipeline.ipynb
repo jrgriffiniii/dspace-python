{
 "cells": [
  {
   "cell_type": "markdown",
   "metadata": {},
   "source": [
    "A preliminary notebook that mimics the functionality of [`vireo.py`](https://github.com/pulibrary/dspace-python/blob/master/thesiscentral-vireo/dataspace/python/vireo.py). \n",
    "* [Proposal for using Jupyter notebooks](https://github.com/pulibrary/dspace-python/issues/16)\n",
    "* [Pandas walkthrough](https://www.youtube.com/playlist?list=PL-osiE80TeTsWmV9i9c58mdDCSskIFdDS) This is a full 6-hour course, but it may be useful to flip through if you're interested!"
   ]
  },
  {
   "cell_type": "code",
   "execution_count": 12,
   "metadata": {},
   "outputs": [],
   "source": [
    "import pandas as pd"
   ]
  },
  {
   "cell_type": "code",
   "execution_count": 13,
   "metadata": {},
   "outputs": [],
   "source": [
    "DATA_DIR = 'data/'\n",
    "\n",
    "CERTIFICATE_PROGRAM = 'Certificate Program'\n",
    "STUDENT_NAME = 'Student name'\n",
    "STUDENT_ID = 'Student ID'\n",
    "DEPARTMENT = 'Department'\n",
    "SUBMISSION_DATE = 'Submission date'\n",
    "ADVISORS = 'Advisors'\n",
    "DOCUMENT_TITLE = 'Title'\n",
    "PRIMARY_DOCUMENT = 'Primary document'\n",
    "THESIS_TYPE = 'Thesis Type'\n",
    "STUDENT_EMAIL = 'Student email'\n",
    "MULTI_AUTHOR = 'Multi Author'\n",
    "STATUS = 'Status'\n",
    "TITLE = 'Title'\n",
    "ID = 'ID'\n",
    "\n",
    "#RESTRICTIONS SHEET\n",
    "R_STUDENT_NAME = 'Submitted By'\n",
    "R_TITLE = 'Name'\n",
    "R_WALK_IN = 'Walk In Access'\n",
    "R_EMBARGO = 'Embargo Years'"
   ]
  },
  {
   "cell_type": "markdown",
   "metadata": {},
   "source": [
    "## Load CSVs"
   ]
  },
  {
   "cell_type": "code",
   "execution_count": 14,
   "metadata": {},
   "outputs": [],
   "source": [
    "df_t = pd.read_csv(DATA_DIR + 'thesis.csv', dtype={'ID': 'Int64'})\n",
    "df_r = pd.read_csv(DATA_DIR + 'restrictions.csv', dtype={'ID': 'Int64'})\n",
    "df_c = pd.read_csv(DATA_DIR + 'certificate-programs.csv', dtype={'ID': 'Int64'})\n",
    "\n",
    "# confirm columns exist and filter\n",
    "t_cols = [\n",
    "    CERTIFICATE_PROGRAM, STUDENT_NAME, STUDENT_ID, DEPARTMENT, \n",
    "    SUBMISSION_DATE, ADVISORS, DOCUMENT_TITLE, PRIMARY_DOCUMENT, \n",
    "    THESIS_TYPE, STUDENT_EMAIL, MULTI_AUTHOR, STATUS, TITLE, ID\n",
    "]\n",
    "c_cols = [ID, STUDENT_EMAIL, STUDENT_NAME, CERTIFICATE_PROGRAM]\n",
    "r_cols = [ID, R_STUDENT_NAME, R_TITLE, R_WALK_IN, R_EMBARGO]\n",
    "\n",
    "df_t = df_t[t_cols]\n",
    "df_r = df_r[r_cols]\n",
    "df_c = df_c[c_cols]"
   ]
  },
  {
   "cell_type": "markdown",
   "metadata": {},
   "source": [
    "### Error Checking"
   ]
  },
  {
   "cell_type": "code",
   "execution_count": 15,
   "metadata": {},
   "outputs": [],
   "source": [
    "# Make sure all IDs are unique\n",
    "assert df_t['ID'].unique().shape[0] == df_t.shape[0]\n",
    "assert df_r['ID'].unique().shape[0] == df_r.shape[0]\n",
    "\n",
    "# Make sure all IDs in restrictions are in thesis\n",
    "assert all([r['ID'] in df_t['ID'].tolist() for (i, r) in df_r.iterrows()])"
   ]
  },
  {
   "cell_type": "markdown",
   "metadata": {},
   "source": [
    "Other errors that may need to be implemented:\n",
    "* What columns are supposed to have all unique values?\n",
    "* What columns are allowed to have empty cells?\n",
    "* Do IDs match the same emails in all sheets?"
   ]
  }
 ],
 "metadata": {
  "kernelspec": {
   "display_name": "Python 3",
   "language": "python",
   "name": "python3"
  },
  "language_info": {
   "codemirror_mode": {
    "name": "ipython",
    "version": 3
   },
   "file_extension": ".py",
   "mimetype": "text/x-python",
   "name": "python",
   "nbconvert_exporter": "python",
   "pygments_lexer": "ipython3",
   "version": "3.7.6"
  }
 },
 "nbformat": 4,
 "nbformat_minor": 4
}
